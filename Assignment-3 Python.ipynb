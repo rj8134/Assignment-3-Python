{
 "cells": [
  {
   "cell_type": "markdown",
   "id": "2e9bec30-793b-463b-942e-c15b1ffd98e9",
   "metadata": {},
   "source": [
    "# Q1.Create a python program to sort the given list of tuples based on integer value using a lambda function.\n",
    "[('Sachin Tendulkar', 34357), ('Ricky Ponting', 27483), ('Jack Kallis', 25534), ('Virat Kohli', 24936)]"
   ]
  },
  {
   "cell_type": "code",
   "execution_count": 67,
   "id": "c8a61fd4-b688-4c17-9225-a5fa46b36ab6",
   "metadata": {},
   "outputs": [],
   "source": [
    "QR= [('Sachin Tendulkar', 34357), ('Ricky Ponting', 27483), ('Jack Kallis', 25534), ('Virat Kohli', 24936)]\n",
    "QR.sort(key=lambda x: x[1])"
   ]
  },
  {
   "cell_type": "code",
   "execution_count": 68,
   "id": "3ed89c9b-7c0f-456a-9653-b0d2e3607e11",
   "metadata": {},
   "outputs": [
    {
     "data": {
      "text/plain": [
       "[('Virat Kohli', 24936),\n",
       " ('Jack Kallis', 25534),\n",
       " ('Ricky Ponting', 27483),\n",
       " ('Sachin Tendulkar', 34357)]"
      ]
     },
     "execution_count": 68,
     "metadata": {},
     "output_type": "execute_result"
    }
   ],
   "source": [
    "QR\n"
   ]
  },
  {
   "cell_type": "markdown",
   "id": "98f16f5b-d538-4091-a7d6-096f749230ef",
   "metadata": {},
   "source": [
    "# Please provide the alternate solution of Q1.\n",
    "# Can we get the solution of these questions from your side also."
   ]
  },
  {
   "cell_type": "markdown",
   "id": "eb07f555-8609-4fc4-9b3f-e17248220754",
   "metadata": {},
   "source": [
    "# Q2. Write a Python Program to find the squares of all the numbers in the given list of integers using lambda and map functions.\n",
    "[1, 2, 3, 4, 5, 6, 7, 8, 9, 10]"
   ]
  },
  {
   "cell_type": "code",
   "execution_count": 4,
   "id": "bf2390d8-c80f-4803-b9f8-51f0f72fb8a0",
   "metadata": {},
   "outputs": [],
   "source": [
    "lst=[]\n",
    "for i in range(1,11):\n",
    "    lst.append(i)\n",
    "\n",
    "    "
   ]
  },
  {
   "cell_type": "code",
   "execution_count": 5,
   "id": "b3c773b6-9482-47b8-b72e-4753e1158b02",
   "metadata": {},
   "outputs": [
    {
     "data": {
      "text/plain": [
       "[1, 2, 3, 4, 5, 6, 7, 8, 9, 10]"
      ]
     },
     "execution_count": 5,
     "metadata": {},
     "output_type": "execute_result"
    }
   ],
   "source": [
    "lst\n"
   ]
  },
  {
   "cell_type": "code",
   "execution_count": 6,
   "id": "27f8cdcd-525c-4073-9751-5a68e68c8200",
   "metadata": {},
   "outputs": [
    {
     "data": {
      "text/plain": [
       "[1, 4, 9, 16, 25, 36, 49, 64, 81, 100]"
      ]
     },
     "execution_count": 6,
     "metadata": {},
     "output_type": "execute_result"
    }
   ],
   "source": [
    "\n",
    "list(map(lambda x :x**2, lst))\n"
   ]
  },
  {
   "cell_type": "markdown",
   "id": "83daade2-d319-46ec-9c78-fe6fea2a2c73",
   "metadata": {},
   "source": [
    "# Q3.Write a python program to convert the given list of integers into a tuple of strings. Use map and lambda functions\n",
    "Given String: [1, 2, 3, 4, 5, 6, 7, 8, 9, 10]\n",
    "Expected output: ('1', '2', '3', '4', '5', '6', '7', '8', '9', '10')"
   ]
  },
  {
   "cell_type": "code",
   "execution_count": 13,
   "id": "9e463d3a-d3ba-4a1f-b284-29cff02266b3",
   "metadata": {},
   "outputs": [
    {
     "data": {
      "text/plain": [
       "('1', '2', '3', '4', '5', '6', '7', '8', '9', '10')"
      ]
     },
     "execution_count": 13,
     "metadata": {},
     "output_type": "execute_result"
    }
   ],
   "source": [
    "Strg= [1, 2, 3, 4, 5, 6, 7, 8, 9, 10]\n",
    "tuple(map(lambda x:str(x),Strg))"
   ]
  },
  {
   "cell_type": "markdown",
   "id": "3b35b5a7-e2e3-46c7-968f-0ecb8bdf4a92",
   "metadata": {},
   "source": [
    "# Q4. Write a python program using reduce function to compute the product of a list containing numbers from 1 to 25."
   ]
  },
  {
   "cell_type": "code",
   "execution_count": 21,
   "id": "692fcb6b-c76e-4141-ba74-ba854ae11be8",
   "metadata": {},
   "outputs": [],
   "source": [
    "list1=[]\n",
    "for i in range(1,26):\n",
    "    list1.append(i)"
   ]
  },
  {
   "cell_type": "code",
   "execution_count": 23,
   "id": "86dc8939-9c96-43dc-914a-770fefa3a5bc",
   "metadata": {},
   "outputs": [
    {
     "data": {
      "text/plain": [
       "[1,\n",
       " 2,\n",
       " 3,\n",
       " 4,\n",
       " 5,\n",
       " 6,\n",
       " 7,\n",
       " 8,\n",
       " 9,\n",
       " 10,\n",
       " 11,\n",
       " 12,\n",
       " 13,\n",
       " 14,\n",
       " 15,\n",
       " 16,\n",
       " 17,\n",
       " 18,\n",
       " 19,\n",
       " 20,\n",
       " 21,\n",
       " 22,\n",
       " 23,\n",
       " 24,\n",
       " 25]"
      ]
     },
     "execution_count": 23,
     "metadata": {},
     "output_type": "execute_result"
    }
   ],
   "source": [
    "list1\n"
   ]
  },
  {
   "cell_type": "code",
   "execution_count": 29,
   "id": "48b52461-cc98-4315-bdff-a290335e76a5",
   "metadata": {},
   "outputs": [
    {
     "data": {
      "text/plain": [
       "15511210043330985984000000"
      ]
     },
     "execution_count": 29,
     "metadata": {},
     "output_type": "execute_result"
    }
   ],
   "source": [
    "from functools import  reduce\n",
    "reduce(lambda x,y:x*y,list1)"
   ]
  },
  {
   "cell_type": "markdown",
   "id": "b3c5c54a-1286-4ebd-bbe6-e0db0f5ebb06",
   "metadata": {},
   "source": [
    "# Q5.Write a python program to filter the numbers in a given list that are divisible by 2 and 3 using the filter function.\n",
    "[2, 3, 6, 9, 27, 60, 90, 120, 55, 46]"
   ]
  },
  {
   "cell_type": "code",
   "execution_count": 43,
   "id": "12ecd2fe-8e3d-433f-995e-7d20c7784770",
   "metadata": {},
   "outputs": [],
   "source": [
    "list2=[2,3,6,9,27,60,90,120,55,46]"
   ]
  },
  {
   "cell_type": "code",
   "execution_count": 44,
   "id": "99fb2459-756f-453c-989a-4004a1f6e26b",
   "metadata": {},
   "outputs": [
    {
     "data": {
      "text/plain": [
       "[2, 3, 6, 9, 27, 60, 90, 120, 55, 46]"
      ]
     },
     "execution_count": 44,
     "metadata": {},
     "output_type": "execute_result"
    }
   ],
   "source": [
    "list2"
   ]
  },
  {
   "cell_type": "code",
   "execution_count": 48,
   "id": "0580c637-169f-4419-9b67-a4624a00a979",
   "metadata": {},
   "outputs": [
    {
     "data": {
      "text/plain": [
       "<filter at 0x7f27be6160b0>"
      ]
     },
     "execution_count": 48,
     "metadata": {},
     "output_type": "execute_result"
    }
   ],
   "source": [
    "list2=[2,3,6,9,27,60,90,120,55,46]\n",
    "def test(a):\n",
    "    list3=[]\n",
    "    for i in a:\n",
    "        if i%2==0 or i%3==0:\n",
    "            list3.append(i)\n",
    "    return  list3 \n",
    "        \n",
    "list(filter(test, list2))"
   ]
  },
  {
   "cell_type": "markdown",
   "id": "112429dd-c85d-4a34-afec-c4b36b1cb496",
   "metadata": {
    "tags": []
   },
   "source": [
    "# Please tell me why this above method is not working.\n"
   ]
  },
  {
   "cell_type": "code",
   "execution_count": 47,
   "id": "69bcaab1-4580-491b-a7b7-5a51e8ce8fa1",
   "metadata": {},
   "outputs": [
    {
     "data": {
      "text/plain": [
       "[2, 3, 6, 9, 27, 60, 90, 120, 46]"
      ]
     },
     "execution_count": 47,
     "metadata": {},
     "output_type": "execute_result"
    }
   ],
   "source": [
    "list(filter(lambda x: x%2==0 or x%3==0,list2))"
   ]
  },
  {
   "cell_type": "markdown",
   "id": "a3044268-93fb-4565-9b9c-05d37ac63cc4",
   "metadata": {},
   "source": [
    "# Q6. Write a python program to find palindromes in the given list of strings using lambda and filter function.\n",
    "['python', 'php', 'aba', 'radar', 'level']"
   ]
  },
  {
   "cell_type": "code",
   "execution_count": 49,
   "id": "87f9fac7-4033-4d07-b5e1-a87fdd76a65c",
   "metadata": {},
   "outputs": [
    {
     "data": {
      "text/plain": [
       "['php', 'aba', 'radar', 'level']"
      ]
     },
     "execution_count": 49,
     "metadata": {},
     "output_type": "execute_result"
    }
   ],
   "source": [
    "list4=['python', 'php', 'aba', 'radar', 'level']\n",
    "list(filter(lambda x:x[0]==x[-1],list4))\n"
   ]
  },
  {
   "cell_type": "code",
   "execution_count": null,
   "id": "66dd1d36-1ab9-413f-8161-8f960fbfb390",
   "metadata": {},
   "outputs": [],
   "source": []
  }
 ],
 "metadata": {
  "kernelspec": {
   "display_name": "Python 3 (ipykernel)",
   "language": "python",
   "name": "python3"
  },
  "language_info": {
   "codemirror_mode": {
    "name": "ipython",
    "version": 3
   },
   "file_extension": ".py",
   "mimetype": "text/x-python",
   "name": "python",
   "nbconvert_exporter": "python",
   "pygments_lexer": "ipython3",
   "version": "3.10.8"
  }
 },
 "nbformat": 4,
 "nbformat_minor": 5
}
